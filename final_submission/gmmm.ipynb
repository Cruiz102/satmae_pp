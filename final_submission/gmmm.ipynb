{
 "cells": [
  {
   "cell_type": "markdown",
   "id": "4cb6fa69",
   "metadata": {},
   "source": [
    "# GMMM Submission AI Hackathon Lockeed Martin\n",
    "\n",
    " - Author: Cesar Ruiz, Edyan Cruz, Angel Morales, Yahid Diaz\n",
    " - Date: September 7 , 2025"
   ]
  },
  {
   "cell_type": "markdown",
   "id": "a12a86a9",
   "metadata": {},
   "source": [
    "## Download dependencies:"
   ]
  },
  {
   "cell_type": "code",
   "execution_count": 1,
   "id": "86fca79d",
   "metadata": {},
   "outputs": [
    {
     "name": "stdout",
     "output_type": "stream",
     "text": [
      "Requirement already satisfied: timm==0.4.12 in /home/cesar/kickoff_material/hackathon/lib/python3.12/site-packages (from -r requirements.txt (line 1)) (0.4.12)\n",
      "Requirement already satisfied: torch in /home/cesar/kickoff_material/hackathon/lib/python3.12/site-packages (from -r requirements.txt (line 2)) (2.8.0)\n",
      "Requirement already satisfied: opencv-python in /home/cesar/kickoff_material/hackathon/lib/python3.12/site-packages (from -r requirements.txt (line 3)) (4.12.0.88)\n",
      "Requirement already satisfied: matplotlib in /home/cesar/kickoff_material/hackathon/lib/python3.12/site-packages (from -r requirements.txt (line 4)) (3.10.6)\n",
      "Requirement already satisfied: numpy in /home/cesar/kickoff_material/hackathon/lib/python3.12/site-packages (from -r requirements.txt (line 5)) (2.2.6)\n",
      "Requirement already satisfied: pandas in /home/cesar/kickoff_material/hackathon/lib/python3.12/site-packages (from -r requirements.txt (line 6)) (2.3.2)\n",
      "Requirement already satisfied: seaborn in /home/cesar/kickoff_material/hackathon/lib/python3.12/site-packages (from -r requirements.txt (line 7)) (0.13.2)\n",
      "Requirement already satisfied: tqdm in /home/cesar/kickoff_material/hackathon/lib/python3.12/site-packages (from -r requirements.txt (line 8)) (4.67.1)\n",
      "Requirement already satisfied: torchvision in /home/cesar/kickoff_material/hackathon/lib/python3.12/site-packages (from -r requirements.txt (line 9)) (0.23.0)\n",
      "Requirement already satisfied: scikit-learn in /home/cesar/kickoff_material/hackathon/lib/python3.12/site-packages (from -r requirements.txt (line 10)) (1.7.1)\n",
      "Requirement already satisfied: kagglehub in /home/cesar/kickoff_material/hackathon/lib/python3.12/site-packages (from -r requirements.txt (line 11)) (0.3.13)\n",
      "Requirement already satisfied: huggingface_hub in /home/cesar/kickoff_material/hackathon/lib/python3.12/site-packages (from -r requirements.txt (line 12)) (0.34.4)\n",
      "Requirement already satisfied: albumentations in /home/cesar/kickoff_material/hackathon/lib/python3.12/site-packages (from -r requirements.txt (line 13)) (2.0.8)\n",
      "Requirement already satisfied: transformers in /home/cesar/kickoff_material/hackathon/lib/python3.12/site-packages (from -r requirements.txt (line 14)) (4.56.1)\n",
      "Requirement already satisfied: tensorboard in /home/cesar/kickoff_material/hackathon/lib/python3.12/site-packages (from -r requirements.txt (line 15)) (2.20.0)\n",
      "Requirement already satisfied: filelock in /home/cesar/kickoff_material/hackathon/lib/python3.12/site-packages (from torch->-r requirements.txt (line 2)) (3.19.1)\n",
      "Requirement already satisfied: typing-extensions>=4.10.0 in /home/cesar/kickoff_material/hackathon/lib/python3.12/site-packages (from torch->-r requirements.txt (line 2)) (4.15.0)\n",
      "Requirement already satisfied: setuptools in /home/cesar/kickoff_material/hackathon/lib/python3.12/site-packages (from torch->-r requirements.txt (line 2)) (80.9.0)\n",
      "Requirement already satisfied: sympy>=1.13.3 in /home/cesar/kickoff_material/hackathon/lib/python3.12/site-packages (from torch->-r requirements.txt (line 2)) (1.14.0)\n",
      "Requirement already satisfied: networkx in /home/cesar/kickoff_material/hackathon/lib/python3.12/site-packages (from torch->-r requirements.txt (line 2)) (3.5)\n",
      "Requirement already satisfied: jinja2 in /home/cesar/kickoff_material/hackathon/lib/python3.12/site-packages (from torch->-r requirements.txt (line 2)) (3.1.6)\n",
      "Requirement already satisfied: fsspec in /home/cesar/kickoff_material/hackathon/lib/python3.12/site-packages (from torch->-r requirements.txt (line 2)) (2025.9.0)\n",
      "Requirement already satisfied: nvidia-cuda-nvrtc-cu12==12.8.93 in /home/cesar/kickoff_material/hackathon/lib/python3.12/site-packages (from torch->-r requirements.txt (line 2)) (12.8.93)\n",
      "Requirement already satisfied: nvidia-cuda-runtime-cu12==12.8.90 in /home/cesar/kickoff_material/hackathon/lib/python3.12/site-packages (from torch->-r requirements.txt (line 2)) (12.8.90)\n",
      "Requirement already satisfied: nvidia-cuda-cupti-cu12==12.8.90 in /home/cesar/kickoff_material/hackathon/lib/python3.12/site-packages (from torch->-r requirements.txt (line 2)) (12.8.90)\n",
      "Requirement already satisfied: nvidia-cudnn-cu12==9.10.2.21 in /home/cesar/kickoff_material/hackathon/lib/python3.12/site-packages (from torch->-r requirements.txt (line 2)) (9.10.2.21)\n",
      "Requirement already satisfied: nvidia-cublas-cu12==12.8.4.1 in /home/cesar/kickoff_material/hackathon/lib/python3.12/site-packages (from torch->-r requirements.txt (line 2)) (12.8.4.1)\n",
      "Requirement already satisfied: nvidia-cufft-cu12==11.3.3.83 in /home/cesar/kickoff_material/hackathon/lib/python3.12/site-packages (from torch->-r requirements.txt (line 2)) (11.3.3.83)\n",
      "Requirement already satisfied: nvidia-curand-cu12==10.3.9.90 in /home/cesar/kickoff_material/hackathon/lib/python3.12/site-packages (from torch->-r requirements.txt (line 2)) (10.3.9.90)\n",
      "Requirement already satisfied: nvidia-cusolver-cu12==11.7.3.90 in /home/cesar/kickoff_material/hackathon/lib/python3.12/site-packages (from torch->-r requirements.txt (line 2)) (11.7.3.90)\n",
      "Requirement already satisfied: nvidia-cusparse-cu12==12.5.8.93 in /home/cesar/kickoff_material/hackathon/lib/python3.12/site-packages (from torch->-r requirements.txt (line 2)) (12.5.8.93)\n",
      "Requirement already satisfied: nvidia-cusparselt-cu12==0.7.1 in /home/cesar/kickoff_material/hackathon/lib/python3.12/site-packages (from torch->-r requirements.txt (line 2)) (0.7.1)\n",
      "Requirement already satisfied: nvidia-nccl-cu12==2.27.3 in /home/cesar/kickoff_material/hackathon/lib/python3.12/site-packages (from torch->-r requirements.txt (line 2)) (2.27.3)\n",
      "Requirement already satisfied: nvidia-nvtx-cu12==12.8.90 in /home/cesar/kickoff_material/hackathon/lib/python3.12/site-packages (from torch->-r requirements.txt (line 2)) (12.8.90)\n",
      "Requirement already satisfied: nvidia-nvjitlink-cu12==12.8.93 in /home/cesar/kickoff_material/hackathon/lib/python3.12/site-packages (from torch->-r requirements.txt (line 2)) (12.8.93)\n",
      "Requirement already satisfied: nvidia-cufile-cu12==1.13.1.3 in /home/cesar/kickoff_material/hackathon/lib/python3.12/site-packages (from torch->-r requirements.txt (line 2)) (1.13.1.3)\n",
      "Requirement already satisfied: triton==3.4.0 in /home/cesar/kickoff_material/hackathon/lib/python3.12/site-packages (from torch->-r requirements.txt (line 2)) (3.4.0)\n",
      "Requirement already satisfied: contourpy>=1.0.1 in /home/cesar/kickoff_material/hackathon/lib/python3.12/site-packages (from matplotlib->-r requirements.txt (line 4)) (1.3.3)\n",
      "Requirement already satisfied: cycler>=0.10 in /home/cesar/kickoff_material/hackathon/lib/python3.12/site-packages (from matplotlib->-r requirements.txt (line 4)) (0.12.1)\n",
      "Requirement already satisfied: fonttools>=4.22.0 in /home/cesar/kickoff_material/hackathon/lib/python3.12/site-packages (from matplotlib->-r requirements.txt (line 4)) (4.59.2)\n",
      "Requirement already satisfied: kiwisolver>=1.3.1 in /home/cesar/kickoff_material/hackathon/lib/python3.12/site-packages (from matplotlib->-r requirements.txt (line 4)) (1.4.9)\n",
      "Requirement already satisfied: packaging>=20.0 in /home/cesar/kickoff_material/hackathon/lib/python3.12/site-packages (from matplotlib->-r requirements.txt (line 4)) (25.0)\n",
      "Requirement already satisfied: pillow>=8 in /home/cesar/kickoff_material/hackathon/lib/python3.12/site-packages (from matplotlib->-r requirements.txt (line 4)) (11.3.0)\n",
      "Requirement already satisfied: pyparsing>=2.3.1 in /home/cesar/kickoff_material/hackathon/lib/python3.12/site-packages (from matplotlib->-r requirements.txt (line 4)) (3.2.3)\n",
      "Requirement already satisfied: python-dateutil>=2.7 in /home/cesar/kickoff_material/hackathon/lib/python3.12/site-packages (from matplotlib->-r requirements.txt (line 4)) (2.9.0.post0)\n",
      "Requirement already satisfied: pytz>=2020.1 in /home/cesar/kickoff_material/hackathon/lib/python3.12/site-packages (from pandas->-r requirements.txt (line 6)) (2025.2)\n",
      "Requirement already satisfied: tzdata>=2022.7 in /home/cesar/kickoff_material/hackathon/lib/python3.12/site-packages (from pandas->-r requirements.txt (line 6)) (2025.2)\n",
      "Requirement already satisfied: scipy>=1.8.0 in /home/cesar/kickoff_material/hackathon/lib/python3.12/site-packages (from scikit-learn->-r requirements.txt (line 10)) (1.16.1)\n",
      "Requirement already satisfied: joblib>=1.2.0 in /home/cesar/kickoff_material/hackathon/lib/python3.12/site-packages (from scikit-learn->-r requirements.txt (line 10)) (1.5.2)\n",
      "Requirement already satisfied: threadpoolctl>=3.1.0 in /home/cesar/kickoff_material/hackathon/lib/python3.12/site-packages (from scikit-learn->-r requirements.txt (line 10)) (3.6.0)\n",
      "Requirement already satisfied: pyyaml in /home/cesar/kickoff_material/hackathon/lib/python3.12/site-packages (from kagglehub->-r requirements.txt (line 11)) (6.0.2)\n",
      "Requirement already satisfied: requests in /home/cesar/kickoff_material/hackathon/lib/python3.12/site-packages (from kagglehub->-r requirements.txt (line 11)) (2.32.5)\n",
      "Requirement already satisfied: hf-xet<2.0.0,>=1.1.3 in /home/cesar/kickoff_material/hackathon/lib/python3.12/site-packages (from huggingface_hub->-r requirements.txt (line 12)) (1.1.9)\n",
      "Requirement already satisfied: pydantic>=2.9.2 in /home/cesar/kickoff_material/hackathon/lib/python3.12/site-packages (from albumentations->-r requirements.txt (line 13)) (2.11.7)\n",
      "Requirement already satisfied: albucore==0.0.24 in /home/cesar/kickoff_material/hackathon/lib/python3.12/site-packages (from albumentations->-r requirements.txt (line 13)) (0.0.24)\n",
      "Requirement already satisfied: opencv-python-headless>=4.9.0.80 in /home/cesar/kickoff_material/hackathon/lib/python3.12/site-packages (from albumentations->-r requirements.txt (line 13)) (4.12.0.88)\n",
      "Requirement already satisfied: stringzilla>=3.10.4 in /home/cesar/kickoff_material/hackathon/lib/python3.12/site-packages (from albucore==0.0.24->albumentations->-r requirements.txt (line 13)) (3.12.6)\n",
      "Requirement already satisfied: simsimd>=5.9.2 in /home/cesar/kickoff_material/hackathon/lib/python3.12/site-packages (from albucore==0.0.24->albumentations->-r requirements.txt (line 13)) (6.5.2)\n",
      "Requirement already satisfied: regex!=2019.12.17 in /home/cesar/kickoff_material/hackathon/lib/python3.12/site-packages (from transformers->-r requirements.txt (line 14)) (2025.9.1)\n",
      "Requirement already satisfied: tokenizers<=0.23.0,>=0.22.0 in /home/cesar/kickoff_material/hackathon/lib/python3.12/site-packages (from transformers->-r requirements.txt (line 14)) (0.22.0)\n",
      "Requirement already satisfied: safetensors>=0.4.3 in /home/cesar/kickoff_material/hackathon/lib/python3.12/site-packages (from transformers->-r requirements.txt (line 14)) (0.6.2)\n",
      "Requirement already satisfied: absl-py>=0.4 in /home/cesar/kickoff_material/hackathon/lib/python3.12/site-packages (from tensorboard->-r requirements.txt (line 15)) (2.3.1)\n",
      "Requirement already satisfied: grpcio>=1.48.2 in /home/cesar/kickoff_material/hackathon/lib/python3.12/site-packages (from tensorboard->-r requirements.txt (line 15)) (1.74.0)\n",
      "Requirement already satisfied: markdown>=2.6.8 in /home/cesar/kickoff_material/hackathon/lib/python3.12/site-packages (from tensorboard->-r requirements.txt (line 15)) (3.9)\n",
      "Requirement already satisfied: protobuf!=4.24.0,>=3.19.6 in /home/cesar/kickoff_material/hackathon/lib/python3.12/site-packages (from tensorboard->-r requirements.txt (line 15)) (6.32.0)\n",
      "Requirement already satisfied: tensorboard-data-server<0.8.0,>=0.7.0 in /home/cesar/kickoff_material/hackathon/lib/python3.12/site-packages (from tensorboard->-r requirements.txt (line 15)) (0.7.2)\n",
      "Requirement already satisfied: werkzeug>=1.0.1 in /home/cesar/kickoff_material/hackathon/lib/python3.12/site-packages (from tensorboard->-r requirements.txt (line 15)) (3.1.3)\n",
      "Requirement already satisfied: annotated-types>=0.6.0 in /home/cesar/kickoff_material/hackathon/lib/python3.12/site-packages (from pydantic>=2.9.2->albumentations->-r requirements.txt (line 13)) (0.7.0)\n",
      "Requirement already satisfied: pydantic-core==2.33.2 in /home/cesar/kickoff_material/hackathon/lib/python3.12/site-packages (from pydantic>=2.9.2->albumentations->-r requirements.txt (line 13)) (2.33.2)\n",
      "Requirement already satisfied: typing-inspection>=0.4.0 in /home/cesar/kickoff_material/hackathon/lib/python3.12/site-packages (from pydantic>=2.9.2->albumentations->-r requirements.txt (line 13)) (0.4.1)\n",
      "Requirement already satisfied: six>=1.5 in /home/cesar/kickoff_material/hackathon/lib/python3.12/site-packages (from python-dateutil>=2.7->matplotlib->-r requirements.txt (line 4)) (1.17.0)\n",
      "Requirement already satisfied: mpmath<1.4,>=1.1.0 in /home/cesar/kickoff_material/hackathon/lib/python3.12/site-packages (from sympy>=1.13.3->torch->-r requirements.txt (line 2)) (1.3.0)\n",
      "Requirement already satisfied: MarkupSafe>=2.1.1 in /home/cesar/kickoff_material/hackathon/lib/python3.12/site-packages (from werkzeug>=1.0.1->tensorboard->-r requirements.txt (line 15)) (3.0.2)\n",
      "Requirement already satisfied: charset_normalizer<4,>=2 in /home/cesar/kickoff_material/hackathon/lib/python3.12/site-packages (from requests->kagglehub->-r requirements.txt (line 11)) (3.4.3)\n",
      "Requirement already satisfied: idna<4,>=2.5 in /home/cesar/kickoff_material/hackathon/lib/python3.12/site-packages (from requests->kagglehub->-r requirements.txt (line 11)) (3.10)\n",
      "Requirement already satisfied: urllib3<3,>=1.21.1 in /home/cesar/kickoff_material/hackathon/lib/python3.12/site-packages (from requests->kagglehub->-r requirements.txt (line 11)) (2.5.0)\n",
      "Requirement already satisfied: certifi>=2017.4.17 in /home/cesar/kickoff_material/hackathon/lib/python3.12/site-packages (from requests->kagglehub->-r requirements.txt (line 11)) (2025.8.3)\n"
     ]
    }
   ],
   "source": [
    "!pip install -r requirements.txt"
   ]
  },
  {
   "cell_type": "markdown",
   "id": "8eddfd75",
   "metadata": {},
   "source": [
    "## Download Dataset"
   ]
  },
  {
   "cell_type": "code",
   "execution_count": 2,
   "id": "67af7341",
   "metadata": {},
   "outputs": [
    {
     "name": "stderr",
     "output_type": "stream",
     "text": [
      "/home/cesar/kickoff_material/hackathon/lib/python3.12/site-packages/tqdm/auto.py:21: TqdmWarning: IProgress not found. Please update jupyter and ipywidgets. See https://ipywidgets.readthedocs.io/en/stable/user_install.html\n",
      "  from .autonotebook import tqdm as notebook_tqdm\n"
     ]
    }
   ],
   "source": [
    "import kagglehub\n",
    "path = kagglehub.dataset_download(\"olebro/nasa-geographical-objects-multilabel-dataset\")"
   ]
  },
  {
   "cell_type": "code",
   "execution_count": 3,
   "id": "4caed4d9",
   "metadata": {},
   "outputs": [
    {
     "data": {
      "text/plain": [
       "'/home/cesar/.cache/kagglehub/datasets/olebro/nasa-geographical-objects-multilabel-dataset/versions/1'"
      ]
     },
     "execution_count": 3,
     "metadata": {},
     "output_type": "execute_result"
    }
   ],
   "source": [
    "path"
   ]
  },
  {
   "cell_type": "markdown",
   "id": "cedd29f4",
   "metadata": {},
   "source": [
    "### Importing Libraries"
   ]
  },
  {
   "cell_type": "code",
   "execution_count": 4,
   "id": "14e3f878",
   "metadata": {},
   "outputs": [],
   "source": [
    "import argparse\n",
    "import ast\n",
    "import datetime\n",
    "import json\n",
    "import os\n",
    "import time\n",
    "from pathlib import Path\n",
    "import numpy as np\n",
    "import pandas as pd\n",
    "import cv2\n",
    "import torch\n",
    "import torch.nn as nn\n",
    "import torch.backends.cudnn as cudnn\n",
    "from torch.utils.data import Dataset, DataLoader\n",
    "from torch.utils.tensorboard import SummaryWriter\n",
    "from sklearn.metrics import f1_score\n",
    "from transformers import AutoImageProcessor,AutoModelForImageClassification,get_cosine_schedule_with_warmup\n",
    "import ast, numpy as np, pandas as pd, torch\n",
    "import matplotlib.pyplot as plt\n",
    "from sklearn.metrics import classification_report, f1_score, confusion_matrix\n",
    "import seaborn as sns"
   ]
  },
  {
   "cell_type": "markdown",
   "id": "f53cd27b",
   "metadata": {},
   "source": [
    "## Configs"
   ]
  },
  {
   "cell_type": "code",
   "execution_count": 5,
   "id": "0b6a90f8",
   "metadata": {},
   "outputs": [],
   "source": [
    "torch.manual_seed(0)\n",
    "np.random.seed(0)\n",
    "cudnn.benchmark = True\n",
    "\n",
    "device = torch.device(\"cuda\" if torch.cuda.is_available() else \"cpu\")\n",
    "train_csv = \"data/train.csv\"\n",
    "val_csv = \"data/val.csv\"\n",
    "images_path = os.path.join(path, \"images\")\n",
    "image_size = 224\n",
    "model_id = \"facebook/dinov2-base\"\n",
    "batch_size = 32\n",
    "workers = 15\n",
    "num_classes = 10\n",
    "weight_decay = 0.05\n",
    "warmup_ratio = 0.05\n",
    "epochs = 30\n",
    "lr = 4e-5\n",
    "log_dir = \"./log_dir\"\n",
    "output_dir = \"output\"\n",
    "eval_only = False\n"
   ]
  },
  {
   "cell_type": "markdown",
   "id": "8940bc8f",
   "metadata": {},
   "source": [
    "## Dataset Definition"
   ]
  },
  {
   "cell_type": "code",
   "execution_count": 6,
   "id": "12aa0cac",
   "metadata": {},
   "outputs": [],
   "source": [
    "class KaggleGeographicalDataset(Dataset):\n",
    "    \"\"\"\n",
    "    Reads `FileName` and `Label Vector`.\n",
    "    Builds a case-insensitive map of files and tolerates extension differences.\n",
    "    Returns (pixel_values, label_tensor).\n",
    "    \"\"\"\n",
    "    def __init__(self, csv_file, images_dir, processor_name, image_size=224, augment=False):\n",
    "        self.df = pd.read_csv(csv_file)\n",
    "        self.images_dir = images_dir\n",
    "        self.image_size = image_size\n",
    "        self.augment = augment\n",
    "        self.augment_prob = 0.05\n",
    "\n",
    "        self.processor = AutoImageProcessor.from_pretrained(\n",
    "            processor_name,\n",
    "            do_resize=True,\n",
    "            size={\"height\": image_size, \"width\": image_size},\n",
    "            do_center_crop=False,\n",
    "        )\n",
    "    def __len__(self):\n",
    "        return len(self.df)\n",
    "\n",
    "    def _hflip(self, img):\n",
    "        return np.ascontiguousarray(img[:, ::-1, :])\n",
    "\n",
    "    def _vflip(self, img):\n",
    "        return np.ascontiguousarray(img[::-1, :, :])\n",
    "\n",
    "    def _rot90k(self, img, k):\n",
    "        if k % 4 == 0:\n",
    "            return img\n",
    "        return np.ascontiguousarray(np.rot90(img, k).copy())\n",
    "\n",
    "    def _small_rotate(self, img, max_deg=360):\n",
    "        ang = (np.random.rand() * 2 - 1) * max_deg\n",
    "        h, w = img.shape[:2]\n",
    "        M = cv2.getRotationMatrix2D((w/2, h/2), ang, 1.0)\n",
    "        return cv2.warpAffine(img, M, (w, h), flags=cv2.INTER_LINEAR, borderMode=cv2.BORDER_REFLECT_101)\n",
    "\n",
    "    def _random_resized_crop(self, img, scale=(0.6, 1.0), ratio=(0.75, 1.33)):\n",
    "        h, w = img.shape[:2]\n",
    "        area = h * w\n",
    "        for _ in range(10):\n",
    "            target_area = np.random.uniform(*scale) * area\n",
    "            log_ratio = (np.log(ratio[0]), np.log(ratio[1]))\n",
    "            aspect = np.exp(np.random.uniform(*log_ratio))\n",
    "            new_w = int(round(np.sqrt(target_area * aspect)))\n",
    "            new_h = int(round(np.sqrt(target_area / aspect)))\n",
    "            if 0 < new_w <= w and 0 < new_h <= h:\n",
    "                x1 = np.random.randint(0, w - new_w + 1)\n",
    "                y1 = np.random.randint(0, h - new_h + 1)\n",
    "                crop = img[y1:y1+new_h, x1:x1+new_w]\n",
    "                return cv2.resize(crop, (w, h), interpolation=cv2.INTER_LINEAR)\n",
    "        min_side = min(h, w)\n",
    "        y1 = (h - min_side) // 2; x1 = (w - min_side) // 2\n",
    "        crop = img[y1:y1+min_side, x1:x1+min_side]\n",
    "        return cv2.resize(crop, (w, h), interpolation=cv2.INTER_LINEAR)\n",
    "\n",
    "    def _color_jitter(self, img, br=0.2, ct=0.2, sat=0.2):\n",
    "        img_f = img.astype(np.float32)\n",
    "        if br > 0:\n",
    "            factor = 1.0 + np.random.uniform(-br, br)\n",
    "            img_f = img_f * factor\n",
    "        if ct > 0:\n",
    "            mean = img_f.mean(axis=(0,1), keepdims=True)\n",
    "            factor = 1.0 + np.random.uniform(-ct, ct)\n",
    "            img_f = (img_f - mean) * factor + mean\n",
    "        img_f = np.clip(img_f, 0, 255)\n",
    "\n",
    "        if sat > 0:\n",
    "            hsv = cv2.cvtColor(img_f.astype(np.uint8), cv2.COLOR_RGB2HSV).astype(np.float32)\n",
    "            s_factor = 1.0 + np.random.uniform(-sat, sat)\n",
    "            hsv[...,1] = np.clip(hsv[...,1] * s_factor, 0, 255)\n",
    "            img_f = cv2.cvtColor(hsv.astype(np.uint8), cv2.COLOR_HSV2RGB).astype(np.float32)\n",
    "\n",
    "        return np.clip(img_f, 0, 255).astype(np.uint8)\n",
    "\n",
    "    def _gaussian_blur(self, img):\n",
    "        k = np.random.choice([3, 5])\n",
    "        return cv2.GaussianBlur(img, (k, k), 0)\n",
    "  \n",
    "\n",
    "    def _gaussian_noise(self, img, sigma=5.0):\n",
    "        noise = np.random.randn(*img.shape).astype(np.float32) * sigma\n",
    "        out = img.astype(np.float32) + noise\n",
    "        return np.clip(out, 0, 255).astype(np.uint8)\n",
    "  \n",
    "\n",
    "    def _random_erasing(self, img, area_ratio=(0.02, 0.12), min_aspect=0.3):\n",
    "\n",
    "        h, w = img.shape[:2]\n",
    "        area = h * w\n",
    "        for _ in range(10):\n",
    "            target = np.random.uniform(*area_ratio) * area\n",
    "            aspect = np.random.uniform(min_aspect, 1/min_aspect)\n",
    "            er_w = int(round(np.sqrt(target * aspect)))\n",
    "            er_h = int(round(np.sqrt(target / aspect)))\n",
    "            if er_w < w and er_h < h:\n",
    "                x1 = np.random.randint(0, w - er_w + 1)\n",
    "                y1 = np.random.randint(0, h - er_h + 1)\n",
    "                fill = np.random.randint(0, 256, (er_h, er_w, 3), dtype=np.uint8)\n",
    "                img[y1:y1+er_h, x1:x1+er_w] = fill\n",
    "                return img\n",
    "        return img\n",
    "\n",
    "    def _maybe_augment(self, img_rgb):\n",
    "        if not self.augment:\n",
    "            return img_rgb\n",
    "\n",
    "        # Order of ops: geo -> crop -> color -> blur/noise -> erase\n",
    "        if np.random.rand() < self.augment_prob:\n",
    "            img_rgb = self._hflip(img_rgb)\n",
    "        if np.random.rand() < self.augment_prob:\n",
    "            img_rgb = self._vflip(img_rgb)\n",
    "        if np.random.rand() < self.augment_prob:\n",
    "            img_rgb = self._rot90k(img_rgb, np.random.randint(0, 4))\n",
    "        if np.random.rand() < self.augment_prob:\n",
    "            img_rgb = self._small_rotate(img_rgb, max_deg=90)\n",
    "        if np.random.rand() < self.augment_prob:\n",
    "            img_rgb = self._random_resized_crop(img_rgb, scale=(0.6, 1.0), ratio=(0.75, 1.33))\n",
    "        if np.random.rand() < self.augment_prob:\n",
    "            img_rgb = self._color_jitter(img_rgb, br=0.15, ct=0.15, sat=0.15)\n",
    "        if np.random.rand() < self.augment_prob:\n",
    "            img_rgb = self._gaussian_blur(img_rgb)\n",
    "        if np.random.rand() < self.augment_prob:\n",
    "            img_rgb = self._gaussian_noise(img_rgb, sigma=5.0)\n",
    "        if np.random.rand() < self.augment_prob:\n",
    "            img_rgb = self._random_erasing(img_rgb, area_ratio=(0.02, 0.12), min_aspect=0.3)\n",
    "\n",
    "        return img_rgb\n",
    "\n",
    "\n",
    "    def __getitem__(self, idx):\n",
    "        img_path = os.path.join(images_path,self.df[\"FileName\"][idx])\n",
    "        image = cv2.imread(img_path)  # BGR\n",
    "        image = cv2.cvtColor(image, cv2.COLOR_BGR2RGB)\n",
    "        image = self._maybe_augment(image)\n",
    "        label_vec = ast.literal_eval(self.df[\"Label Vector\"][idx])\n",
    "        label = torch.tensor(label_vec, dtype=torch.float32)\n",
    "        inputs = self.processor(images=image, return_tensors=\"pt\")\n",
    "        pixel_values = inputs[\"pixel_values\"].squeeze(0)\n",
    "        return pixel_values, label"
   ]
  },
  {
   "cell_type": "markdown",
   "id": "6b7b9129",
   "metadata": {},
   "source": [
    "## Balance Helper Function"
   ]
  },
  {
   "cell_type": "code",
   "execution_count": 7,
   "id": "e8836dc9",
   "metadata": {},
   "outputs": [],
   "source": [
    "def compute_pos_weight_from_csv(train_csv_path: str, device: torch.device, eps: float = 1e-6):\n",
    "    df = pd.read_csv(train_csv_path)\n",
    "    Y = np.stack([np.array(ast.literal_eval(s), dtype=np.float32) for s in df[\"Label Vector\"]])  # (N, C)\n",
    "    pos = Y.sum(axis=0)                     # positives per class\n",
    "    neg = Y.shape[0] - pos                  # negatives per class\n",
    "    pw = neg / (pos + eps)                  # ratio -> larger weight for rare classes\n",
    "    # (Optional) clamp huge values if you have classes with 0 positives\n",
    "    pw = np.clip(pw, 1.0, 100.0)\n",
    "    return torch.tensor(pw, dtype=torch.float32, device=device)"
   ]
  },
  {
   "cell_type": "markdown",
   "id": "59e5a613",
   "metadata": {},
   "source": [
    "## F1 Calculator"
   ]
  },
  {
   "cell_type": "code",
   "execution_count": 8,
   "id": "5ea1ad25",
   "metadata": {},
   "outputs": [],
   "source": [
    "\n",
    "@torch.no_grad()\n",
    "def evaluate(model, dataloader, device, criterion):\n",
    "    model.eval()\n",
    "\n",
    "    total_loss = 0.0\n",
    "    all_pred, all_true = [], []\n",
    "\n",
    "    for pixel_values, labels in dataloader:\n",
    "        pixel_values = pixel_values.to(device, non_blocking=True)\n",
    "        labels = labels.to(device, non_blocking=True)\n",
    "\n",
    "        logits = model(pixel_values=pixel_values).logits\n",
    "        loss = criterion(logits, labels)\n",
    "        total_loss += loss.item() * pixel_values.size(0)\n",
    "\n",
    "        preds = (logits.sigmoid() > 0.5).int().cpu().numpy()\n",
    "        all_pred.append(preds)\n",
    "        all_true.append(labels.int().cpu().numpy())\n",
    "\n",
    "    all_pred = np.vstack(all_pred) if all_pred else np.zeros((0, 0))\n",
    "    all_true = np.vstack(all_true) if all_true else np.zeros((0, 0))\n",
    "\n",
    "    f1_micro = f1_score(all_true, all_pred, average=\"micro\", zero_division=0) if len(all_true) else 0.0\n",
    "    f1_macro = f1_score(all_true, all_pred, average=\"macro\", zero_division=0) if len(all_true) else 0.0\n",
    "    avg_loss = total_loss / max(len(dataloader.dataset), 1)\n",
    "\n",
    "    return {\"loss\": avg_loss, \"f1_micro\": f1_micro, \"f1_macro\": f1_macro, \"logits\": logits}"
   ]
  },
  {
   "cell_type": "markdown",
   "id": "090ac9ec",
   "metadata": {},
   "source": [
    "## Training Helper"
   ]
  },
  {
   "cell_type": "code",
   "execution_count": 9,
   "id": "8acf985e",
   "metadata": {},
   "outputs": [],
   "source": [
    "def train_one_epoch(model, dataloader, optimizer, scheduler, device, scaler, criterion):\n",
    "    model.train()\n",
    "    seen = 0\n",
    "    running = 0.0\n",
    "    labeles =[]\n",
    "    for pixel_values, labels in dataloader:\n",
    "        pixel_values = pixel_values.to(device, non_blocking=True)\n",
    "        labels = labels.to(device, non_blocking=True)\n",
    "        labeles.append(labels)\n",
    "\n",
    "        optimizer.zero_grad(set_to_none=True)\n",
    "        with torch.autocast(device_type=\"cuda\", dtype=torch.float16, enabled=torch.cuda.is_available()):\n",
    "            logits = model(pixel_values=pixel_values).logits\n",
    "            loss = criterion(logits, labels)\n",
    "\n",
    "        scaler.scale(loss).backward()\n",
    "        scaler.step(optimizer)\n",
    "        scaler.update()\n",
    "        scheduler.step()\n",
    "\n",
    "        running += loss.item() * pixel_values.size(0)\n",
    "        seen += pixel_values.size(0)\n",
    "\n",
    "    return labeles"
   ]
  },
  {
   "cell_type": "markdown",
   "id": "017ef37a",
   "metadata": {},
   "source": [
    "## Main Training Loop"
   ]
  },
  {
   "cell_type": "code",
   "execution_count": 11,
   "id": "91fe5f6d",
   "metadata": {},
   "outputs": [
    {
     "name": "stderr",
     "output_type": "stream",
     "text": [
      "Fetching 1 files: 100%|██████████| 1/1 [00:00<00:00, 5384.22it/s]\n",
      "Using a slow image processor as `use_fast` is unset and a slow processor was saved with this model. `use_fast=True` will be the default behavior in v4.52, even if the model was saved with a slow processor. This will result in minor differences in outputs. You'll still be able to use a slow processor with `use_fast=False`.\n",
      "Fetching 1 files: 100%|██████████| 1/1 [00:00<00:00, 1586.35it/s]\n",
      "Some weights of Dinov2ForImageClassification were not initialized from the model checkpoint at facebook/dinov2-base and are newly initialized: ['classifier.bias', 'classifier.weight']\n",
      "You should probably TRAIN this model on a down-stream task to be able to use it for predictions and inference.\n"
     ]
    },
    {
     "name": "stdout",
     "output_type": "stream",
     "text": [
      "Start training for 30 epochs\n"
     ]
    },
    {
     "name": "stderr",
     "output_type": "stream",
     "text": [
      "/home/cesar/kickoff_material/hackathon/lib/python3.12/site-packages/torch/optim/lr_scheduler.py:192: UserWarning: Detected call of `lr_scheduler.step()` before `optimizer.step()`. In PyTorch 1.1.0 and later, you should call them in the opposite order: `optimizer.step()` before `lr_scheduler.step()`.  Failure to do this will result in PyTorch skipping the first value of the learning rate schedule. See more details at https://pytorch.org/docs/stable/optim.html#how-to-adjust-learning-rate\n",
      "  warnings.warn(\n"
     ]
    },
    {
     "name": "stdout",
     "output_type": "stream",
     "text": [
      "Epochs: 0\n",
      "\n",
      "[Eval] loss=0.4605 | f1_micro=0.7812 | f1_macro=0.6759\n",
      "[Train] loss=0.4174 | f1_micro=0.7841 | f1_macro=0.7122\n",
      "\n",
      "New best F1_micro=0.7812 -> output/best_f1_0.7812.pt\n",
      "Epochs: 1\n",
      "\n",
      "[Eval] loss=0.3370 | f1_micro=0.8064 | f1_macro=0.7162\n",
      "[Train] loss=0.2364 | f1_micro=0.8354 | f1_macro=0.7464\n",
      "\n",
      "New best F1_micro=0.8064 -> output/best_f1_0.8064.pt\n",
      "Epochs: 2\n",
      "\n",
      "[Eval] loss=0.2701 | f1_micro=0.8792 | f1_macro=0.8154\n",
      "[Train] loss=0.1153 | f1_micro=0.9083 | f1_macro=0.8979\n",
      "\n",
      "New best F1_micro=0.8792 -> output/best_f1_0.8792.pt\n"
     ]
    },
    {
     "ename": "KeyboardInterrupt",
     "evalue": "",
     "output_type": "error",
     "traceback": [
      "\u001b[31m---------------------------------------------------------------------------\u001b[39m",
      "\u001b[31mKeyboardInterrupt\u001b[39m                         Traceback (most recent call last)",
      "\u001b[36mCell\u001b[39m\u001b[36m \u001b[39m\u001b[32mIn[11]\u001b[39m\u001b[32m, line 59\u001b[39m\n\u001b[32m     57\u001b[39m \u001b[38;5;28mprint\u001b[39m(\u001b[33mf\u001b[39m\u001b[33m\"\u001b[39m\u001b[33mStart training for \u001b[39m\u001b[38;5;132;01m{\u001b[39;00mepochs\u001b[38;5;132;01m}\u001b[39;00m\u001b[33m epochs\u001b[39m\u001b[33m\"\u001b[39m)\n\u001b[32m     58\u001b[39m \u001b[38;5;28;01mfor\u001b[39;00m epoch \u001b[38;5;129;01min\u001b[39;00m \u001b[38;5;28mrange\u001b[39m(epochs):\n\u001b[32m---> \u001b[39m\u001b[32m59\u001b[39m     actual_label = \u001b[43mtrain_one_epoch\u001b[49m\u001b[43m(\u001b[49m\u001b[43mmodel\u001b[49m\u001b[43m,\u001b[49m\u001b[43m \u001b[49m\u001b[43mtrain_loader\u001b[49m\u001b[43m,\u001b[49m\u001b[43m \u001b[49m\u001b[43moptimizer\u001b[49m\u001b[43m,\u001b[49m\u001b[43m \u001b[49m\u001b[43mscheduler\u001b[49m\u001b[43m,\u001b[49m\u001b[43m \u001b[49m\u001b[43mdevice\u001b[49m\u001b[43m,\u001b[49m\u001b[43m \u001b[49m\u001b[43mscaler\u001b[49m\u001b[43m,\u001b[49m\u001b[43m \u001b[49m\u001b[43mcriterion\u001b[49m\u001b[43m)\u001b[49m\n\u001b[32m     60\u001b[39m     val_stats  = evaluate(model, val_loader, device, criterion)\n\u001b[32m     61\u001b[39m     train_stats = evaluate(model, train_loader, device, criterion)\n",
      "\u001b[36mCell\u001b[39m\u001b[36m \u001b[39m\u001b[32mIn[9]\u001b[39m\u001b[32m, line 17\u001b[39m, in \u001b[36mtrain_one_epoch\u001b[39m\u001b[34m(model, dataloader, optimizer, scheduler, device, scaler, criterion)\u001b[39m\n\u001b[32m     14\u001b[39m     loss = criterion(logits, labels)\n\u001b[32m     16\u001b[39m scaler.scale(loss).backward()\n\u001b[32m---> \u001b[39m\u001b[32m17\u001b[39m \u001b[43mscaler\u001b[49m\u001b[43m.\u001b[49m\u001b[43mstep\u001b[49m\u001b[43m(\u001b[49m\u001b[43moptimizer\u001b[49m\u001b[43m)\u001b[49m\n\u001b[32m     18\u001b[39m scaler.update()\n\u001b[32m     19\u001b[39m scheduler.step()\n",
      "\u001b[36mFile \u001b[39m\u001b[32m~/kickoff_material/hackathon/lib/python3.12/site-packages/torch/amp/grad_scaler.py:465\u001b[39m, in \u001b[36mGradScaler.step\u001b[39m\u001b[34m(self, optimizer, *args, **kwargs)\u001b[39m\n\u001b[32m    459\u001b[39m     \u001b[38;5;28mself\u001b[39m.unscale_(optimizer)\n\u001b[32m    461\u001b[39m \u001b[38;5;28;01massert\u001b[39;00m (\n\u001b[32m    462\u001b[39m     \u001b[38;5;28mlen\u001b[39m(optimizer_state[\u001b[33m\"\u001b[39m\u001b[33mfound_inf_per_device\u001b[39m\u001b[33m\"\u001b[39m]) > \u001b[32m0\u001b[39m\n\u001b[32m    463\u001b[39m ), \u001b[33m\"\u001b[39m\u001b[33mNo inf checks were recorded for this optimizer.\u001b[39m\u001b[33m\"\u001b[39m\n\u001b[32m--> \u001b[39m\u001b[32m465\u001b[39m retval = \u001b[38;5;28;43mself\u001b[39;49m\u001b[43m.\u001b[49m\u001b[43m_maybe_opt_step\u001b[49m\u001b[43m(\u001b[49m\u001b[43moptimizer\u001b[49m\u001b[43m,\u001b[49m\u001b[43m \u001b[49m\u001b[43moptimizer_state\u001b[49m\u001b[43m,\u001b[49m\u001b[43m \u001b[49m\u001b[43m*\u001b[49m\u001b[43margs\u001b[49m\u001b[43m,\u001b[49m\u001b[43m \u001b[49m\u001b[43m*\u001b[49m\u001b[43m*\u001b[49m\u001b[43mkwargs\u001b[49m\u001b[43m)\u001b[49m\n\u001b[32m    467\u001b[39m optimizer_state[\u001b[33m\"\u001b[39m\u001b[33mstage\u001b[39m\u001b[33m\"\u001b[39m] = OptState.STEPPED\n\u001b[32m    469\u001b[39m \u001b[38;5;28;01mreturn\u001b[39;00m retval\n",
      "\u001b[36mFile \u001b[39m\u001b[32m~/kickoff_material/hackathon/lib/python3.12/site-packages/torch/amp/grad_scaler.py:359\u001b[39m, in \u001b[36mGradScaler._maybe_opt_step\u001b[39m\u001b[34m(self, optimizer, optimizer_state, *args, **kwargs)\u001b[39m\n\u001b[32m    351\u001b[39m \u001b[38;5;28;01mdef\u001b[39;00m\u001b[38;5;250m \u001b[39m\u001b[34m_maybe_opt_step\u001b[39m(\n\u001b[32m    352\u001b[39m     \u001b[38;5;28mself\u001b[39m,\n\u001b[32m    353\u001b[39m     optimizer: torch.optim.Optimizer,\n\u001b[32m   (...)\u001b[39m\u001b[32m    356\u001b[39m     **kwargs: Any,\n\u001b[32m    357\u001b[39m ) -> Optional[\u001b[38;5;28mfloat\u001b[39m]:\n\u001b[32m    358\u001b[39m     retval: Optional[\u001b[38;5;28mfloat\u001b[39m] = \u001b[38;5;28;01mNone\u001b[39;00m\n\u001b[32m--> \u001b[39m\u001b[32m359\u001b[39m     \u001b[38;5;28;01mif\u001b[39;00m \u001b[38;5;129;01mnot\u001b[39;00m \u001b[38;5;28;43msum\u001b[39;49m\u001b[43m(\u001b[49m\u001b[43mv\u001b[49m\u001b[43m.\u001b[49m\u001b[43mitem\u001b[49m\u001b[43m(\u001b[49m\u001b[43m)\u001b[49m\u001b[43m \u001b[49m\u001b[38;5;28;43;01mfor\u001b[39;49;00m\u001b[43m \u001b[49m\u001b[43mv\u001b[49m\u001b[43m \u001b[49m\u001b[38;5;129;43;01min\u001b[39;49;00m\u001b[43m \u001b[49m\u001b[43moptimizer_state\u001b[49m\u001b[43m[\u001b[49m\u001b[33;43m\"\u001b[39;49m\u001b[33;43mfound_inf_per_device\u001b[39;49m\u001b[33;43m\"\u001b[39;49m\u001b[43m]\u001b[49m\u001b[43m.\u001b[49m\u001b[43mvalues\u001b[49m\u001b[43m(\u001b[49m\u001b[43m)\u001b[49m\u001b[43m)\u001b[49m:\n\u001b[32m    360\u001b[39m         retval = optimizer.step(*args, **kwargs)\n\u001b[32m    361\u001b[39m     \u001b[38;5;28;01mreturn\u001b[39;00m retval\n",
      "\u001b[36mFile \u001b[39m\u001b[32m~/kickoff_material/hackathon/lib/python3.12/site-packages/torch/amp/grad_scaler.py:359\u001b[39m, in \u001b[36m<genexpr>\u001b[39m\u001b[34m(.0)\u001b[39m\n\u001b[32m    351\u001b[39m \u001b[38;5;28;01mdef\u001b[39;00m\u001b[38;5;250m \u001b[39m\u001b[34m_maybe_opt_step\u001b[39m(\n\u001b[32m    352\u001b[39m     \u001b[38;5;28mself\u001b[39m,\n\u001b[32m    353\u001b[39m     optimizer: torch.optim.Optimizer,\n\u001b[32m   (...)\u001b[39m\u001b[32m    356\u001b[39m     **kwargs: Any,\n\u001b[32m    357\u001b[39m ) -> Optional[\u001b[38;5;28mfloat\u001b[39m]:\n\u001b[32m    358\u001b[39m     retval: Optional[\u001b[38;5;28mfloat\u001b[39m] = \u001b[38;5;28;01mNone\u001b[39;00m\n\u001b[32m--> \u001b[39m\u001b[32m359\u001b[39m     \u001b[38;5;28;01mif\u001b[39;00m \u001b[38;5;129;01mnot\u001b[39;00m \u001b[38;5;28msum\u001b[39m(\u001b[43mv\u001b[49m\u001b[43m.\u001b[49m\u001b[43mitem\u001b[49m\u001b[43m(\u001b[49m\u001b[43m)\u001b[49m \u001b[38;5;28;01mfor\u001b[39;00m v \u001b[38;5;129;01min\u001b[39;00m optimizer_state[\u001b[33m\"\u001b[39m\u001b[33mfound_inf_per_device\u001b[39m\u001b[33m\"\u001b[39m].values()):\n\u001b[32m    360\u001b[39m         retval = optimizer.step(*args, **kwargs)\n\u001b[32m    361\u001b[39m     \u001b[38;5;28;01mreturn\u001b[39;00m retval\n",
      "\u001b[31mKeyboardInterrupt\u001b[39m: "
     ]
    }
   ],
   "source": [
    "train_ds = KaggleGeographicalDataset(\n",
    "        train_csv, images_path, processor_name=model_id,\n",
    "        image_size=image_size, augment=True,\n",
    "    )\n",
    "val_ds = KaggleGeographicalDataset(\n",
    "        val_csv, images_path, processor_name=model_id,\n",
    "        image_size=image_size, augment=False\n",
    "    )\n",
    "\n",
    "train_loader = DataLoader(\n",
    "        train_ds, batch_size=batch_size, shuffle=True,\n",
    "        num_workers=workers, pin_memory=True, drop_last=True\n",
    "    )\n",
    "val_loader = DataLoader(\n",
    "        val_ds, batch_size=batch_size, shuffle=False,\n",
    "        num_workers=workers, pin_memory=True\n",
    "    )\n",
    "\n",
    "\n",
    "model = AutoModelForImageClassification.from_pretrained(\n",
    "        model_id,\n",
    "        num_labels=num_classes,\n",
    "        problem_type=\"multi_label_classification\",\n",
    "        ignore_mismatched_sizes=True,\n",
    "    ).to(device)\n",
    "\n",
    "\n",
    "no_decay = [\"bias\", \"LayerNorm.weight\"]\n",
    "param_groups = [\n",
    "        {\"params\": [p for n, p in model.named_parameters() if not any(nd in n for nd in no_decay)],\n",
    "        \"weight_decay\": weight_decay},\n",
    "        {\"params\": [p for n, p in model.named_parameters() if any(nd in n for nd in no_decay)],\n",
    "        \"weight_decay\": 0.0},\n",
    "    ]\n",
    "optimizer = torch.optim.AdamW(param_groups, lr=lr)\n",
    "total_steps = max(1, len(train_loader)) * epochs\n",
    "warmup_steps = int(total_steps * warmup_ratio)\n",
    "scheduler = get_cosine_schedule_with_warmup(\n",
    "        optimizer, num_warmup_steps=warmup_steps, num_training_steps=total_steps\n",
    "    )\n",
    "pos_weight = compute_pos_weight_from_csv(train_csv, device)\n",
    "criterion = nn.BCEWithLogitsLoss(pos_weight=pos_weight)\n",
    "scaler = torch.amp.GradScaler(enabled=torch.cuda.is_available())\n",
    "# Logging mkdir intialization\n",
    "os.makedirs(output_dir, exist_ok=True)\n",
    "\n",
    "# Train\n",
    "best_f1 = 0.0\n",
    "history_f1_val = []\n",
    "history_f1_train = []\n",
    "history_loss_val = []\n",
    "history_loss_train = []\n",
    "       # Store batch results\n",
    "actual_labels = []\n",
    "predicted_labels = []\n",
    "t0 = time.time()\n",
    "print(f\"Start training for {epochs} epochs\")\n",
    "for epoch in range(epochs):\n",
    "    actual_label = train_one_epoch(model, train_loader, optimizer, scheduler, device, scaler, criterion)\n",
    "    val_stats  = evaluate(model, val_loader, device, criterion)\n",
    "    train_stats = evaluate(model, train_loader, device, criterion)\n",
    "    print(f\"Epochs: {epoch}\\n\")\n",
    "    print(f\"[Eval] loss={val_stats['loss']:.4f} | f1_micro={val_stats['f1_micro']:.4f} | f1_macro={val_stats['f1_macro']:.4f}\")\n",
    "    print(f\"[Train] loss={train_stats['loss']:.4f} | f1_micro={train_stats['f1_micro']:.4f} | f1_macro={train_stats['f1_macro']:.4f}\\n\")\n",
    "    history_f1_val.append(val_stats['f1_micro'])\n",
    "    history_f1_train.append(train_stats['f1_micro'])\n",
    "    history_loss_val.append(val_stats[\"loss\"])\n",
    "    history_loss_train.append(train_stats[\"loss\"])\n",
    "\n",
    "    \n",
    "    actual_labels.append(actual_label)\n",
    "    predicted_labels.append(val_stats[\"logits\"])\n",
    "\n",
    "    if val_stats[\"f1_micro\"] > best_f1:\n",
    "        best_f1 = val_stats[\"f1_micro\"]\n",
    "        best_path = os.path.join(output_dir, f\"best_f1_{best_f1:.4f}.pt\")\n",
    "        torch.save({\n",
    "            \"model\": model.state_dict(),\n",
    "            \"optimizer\": optimizer.state_dict(),\n",
    "            \"epoch\": epoch,\n",
    "            \"pos_weight\": pos_weight.detach().cpu().tolist(), \n",
    "        }, best_path)\n",
    "\n",
    "        print(f\"New best F1_micro={best_f1:.4f} -> {best_path}\")\n",
    "total = str(datetime.timedelta(seconds=int(time.time() - t0)))\n",
    "print(f\"\\nDone. Best F1_micro={best_f1:.4f}. Total time: {total}\")"
   ]
  },
  {
   "cell_type": "code",
   "execution_count": 12,
   "id": "dd14123c",
   "metadata": {},
   "outputs": [
    {
     "data": {
      "text/plain": [
       "Dinov2ForImageClassification(\n",
       "  (dinov2): Dinov2Model(\n",
       "    (embeddings): Dinov2Embeddings(\n",
       "      (patch_embeddings): Dinov2PatchEmbeddings(\n",
       "        (projection): Conv2d(3, 768, kernel_size=(14, 14), stride=(14, 14))\n",
       "      )\n",
       "      (dropout): Dropout(p=0.0, inplace=False)\n",
       "    )\n",
       "    (encoder): Dinov2Encoder(\n",
       "      (layer): ModuleList(\n",
       "        (0-11): 12 x Dinov2Layer(\n",
       "          (norm1): LayerNorm((768,), eps=1e-06, elementwise_affine=True)\n",
       "          (attention): Dinov2Attention(\n",
       "            (attention): Dinov2SelfAttention(\n",
       "              (query): Linear(in_features=768, out_features=768, bias=True)\n",
       "              (key): Linear(in_features=768, out_features=768, bias=True)\n",
       "              (value): Linear(in_features=768, out_features=768, bias=True)\n",
       "            )\n",
       "            (output): Dinov2SelfOutput(\n",
       "              (dense): Linear(in_features=768, out_features=768, bias=True)\n",
       "              (dropout): Dropout(p=0.0, inplace=False)\n",
       "            )\n",
       "          )\n",
       "          (layer_scale1): Dinov2LayerScale()\n",
       "          (drop_path): Identity()\n",
       "          (norm2): LayerNorm((768,), eps=1e-06, elementwise_affine=True)\n",
       "          (mlp): Dinov2MLP(\n",
       "            (fc1): Linear(in_features=768, out_features=3072, bias=True)\n",
       "            (activation): GELUActivation()\n",
       "            (fc2): Linear(in_features=3072, out_features=768, bias=True)\n",
       "          )\n",
       "          (layer_scale2): Dinov2LayerScale()\n",
       "        )\n",
       "      )\n",
       "    )\n",
       "    (layernorm): LayerNorm((768,), eps=1e-06, elementwise_affine=True)\n",
       "  )\n",
       "  (classifier): Linear(in_features=1536, out_features=10, bias=True)\n",
       ")"
      ]
     },
     "execution_count": 12,
     "metadata": {},
     "output_type": "execute_result"
    }
   ],
   "source": [
    "model\n"
   ]
  },
  {
   "cell_type": "markdown",
   "id": "e430cbaf",
   "metadata": {},
   "source": [
    "## Data Visualization"
   ]
  },
  {
   "cell_type": "code",
   "execution_count": null,
   "id": "41880143",
   "metadata": {},
   "outputs": [
    {
     "data": {
      "image/png": "[encoded data removed]",
      "text/plain": [
       "<Figure size 1200x400 with 2 Axes>"
      ]
     },
     "metadata": {},
     "output_type": "display_data"
    }
   ],
   "source": [
    "x_axis = np.arange(epoch) + 1\n",
    "fig = plt.figure(figsize=(12,4))\n",
    "ax = fig.add_subplot(1, 2, 1)\n",
    "ax.plot(x_axis, history_loss_train, '-o', label = 'Train loss')\n",
    "ax.plot(x_axis, history_loss_val, '--<', label = 'Validation loss')\n",
    "ax.legend(fontsize=15)\n",
    "ax.grid(True)\n",
    "ax = fig.add_subplot(1, 2, 2)\n",
    "ax.plot(x_axis, history_f1_train, '-o', label='Train F1')\n",
    "ax.plot(x_axis, history_f1_val, '--<', label='Validation F1')        \n",
    "ax.legend(fontsize=15)\n",
    "ax.grid(True)\n",
    "ax.set_xlabel('Epoch', size=15)\n",
    "ax.set_ylabel('Epoch', size=15)\n",
    "plt.show()"
   ]
  },
  {
   "cell_type": "markdown",
   "id": "f5dbc6af",
   "metadata": {},
   "source": [
    "## Confusion Matrix"
   ]
  },
  {
   "cell_type": "code",
   "execution_count": null,
   "id": "5fa0b7e8",
   "metadata": {},
   "outputs": [],
   "source": [
    "from typing import List\n",
    "def create_multilabel_confusion_matrix(y_true_arrays: List[list], y_pred_arrays: list, test_data_raw: pd.DataFrame):\n",
    "    valid_combinations = []\n",
    "    valid_label_names = {}\n",
    "    \n",
    "    # unique label vectors from test data\n",
    "    for _, row in test_data_raw.drop_duplicates(subset=['Label Vector']).iterrows():\n",
    "        label_vector = np.array(row['Label Vector'].strip('[]').split(', '), dtype=int)\n",
    "        if isinstance(label_vector, np.ndarray):\n",
    "            vector_tuple = tuple(label_vector.flatten())\n",
    "        else:\n",
    "            for arr in label_vector:\n",
    "                if isinstance(arr, np.ndarray):\n",
    "                    vector_tuple = tuple(arr.flatten())\n",
    "                    break\n",
    "                    \n",
    "        valid_combinations.append(vector_tuple)\n",
    "        valid_label_names[vector_tuple] = row['Label String']\n",
    "    \n",
    "    # add \"Other\" category\n",
    "    other_idx = len(valid_combinations)\n",
    "    \n",
    "    # convert true and predicted arrays to tuples\n",
    "    y_true_tuples = []\n",
    "    y_pred_tuples = []\n",
    "    \n",
    "    for array in y_true_arrays:\n",
    "        for row in array:\n",
    "            y_true_tuples.append(tuple(row))\n",
    "            \n",
    "    for array in y_pred_arrays:\n",
    "        for row in array:\n",
    "            y_pred_tuples.append(tuple(row))\n",
    "    \n",
    "    # Map each tuple to the index of its class or to \"Other\"\n",
    "    def get_class_index(tup):\n",
    "        if tup in valid_combinations:\n",
    "            return valid_combinations.index(tup)\n",
    "        else:\n",
    "            return other_idx\n",
    "    \n",
    "    # convert tuples to class indices\n",
    "    y_true_indices = [get_class_index(t) for t in y_true_tuples]\n",
    "    y_pred_indices = [get_class_index(t) for t in y_pred_tuples]\n",
    "    \n",
    "    # create labels for the confusion matrix\n",
    "    labels = [valid_label_names[combo] for combo in valid_combinations] + [\"Other\"]\n",
    "    \n",
    "    # create the confusion matrix\n",
    "    cm = confusion_matrix(y_true_indices, y_pred_indices, \n",
    "                          labels=range(len(valid_combinations) + 1))\n",
    "    \n",
    "    # create a DataFrame for better visualization\n",
    "    cm_df = pd.DataFrame(cm, index=labels, columns=labels)\n",
    "    \n",
    "    return cm, cm_df, labels\n",
    "\n",
    "def plot_confusion_matrix(cm_df, labels, figsize=(15, 15)):\n",
    "    # create the plot\n",
    "    plt.figure(figsize=figsize)\n",
    "    sns.heatmap(cm_df, annot=True, fmt='d', cmap='Blues')\n",
    "    plt.title('Confusion Matrix for Multilabel Classification')\n",
    "    plt.ylabel('True Label')\n",
    "    plt.xlabel('Predicted Label')\n",
    "    \n",
    "    # rotate x-axis labels for better readability\n",
    "    plt.xticks(rotation=45, ha='right')\n",
    "    plt.yticks(rotation=0)\n",
    "    \n",
    "    plt.tight_layout()\n",
    "    return plt.gcf()\n",
    "val_df = pd.read_csv(val_csv)\n",
    "cm, cm_df, labels = create_multilabel_confusion_matrix(\n",
    "    actual_labels, predicted_labels,val_df )\n",
    "fig = plot_confusion_matrix(cm_df, labels)\n",
    "plt.show()"
   ]
  },
  {
   "cell_type": "code",
   "execution_count": null,
   "id": "4f8d7f09",
   "metadata": {},
   "outputs": [],
   "source": []
  },
  {
   "cell_type": "markdown",
   "id": "f2b2146e",
   "metadata": {},
   "source": [
    "## Model Insights"
   ]
  },
  {
   "cell_type": "markdown",
   "id": "b11e3393",
   "metadata": {},
   "source": [
    "### Attention Visualization"
   ]
  },
  {
   "cell_type": "code",
   "execution_count": null,
   "id": "231ecd52",
   "metadata": {},
   "outputs": [
    {
     "ename": "NameError",
     "evalue": "name 'model' is not defined",
     "output_type": "error",
     "traceback": [
      "\u001b[31m---------------------------------------------------------------------------\u001b[39m",
      "\u001b[31mNameError\u001b[39m                                 Traceback (most recent call last)",
      "\u001b[36mCell\u001b[39m\u001b[36m \u001b[39m\u001b[32mIn[32]\u001b[39m\u001b[32m, line 1\u001b[39m\n\u001b[32m----> \u001b[39m\u001b[32m1\u001b[39m n_params = \u001b[38;5;28msum\u001b[39m(p.numel() \u001b[38;5;28;01mfor\u001b[39;00m p \u001b[38;5;129;01min\u001b[39;00m \u001b[43mmodel\u001b[49m.parameters())\n\u001b[32m      2\u001b[39m \u001b[38;5;28mprint\u001b[39m(\u001b[33mf\u001b[39m\u001b[33m\"\u001b[39m\u001b[33mModel params: \u001b[39m\u001b[38;5;132;01m{\u001b[39;00mn_params/\u001b[32m1e6\u001b[39m\u001b[38;5;132;01m:\u001b[39;00m\u001b[33m.2f\u001b[39m\u001b[38;5;132;01m}\u001b[39;00m\u001b[33mM\u001b[39m\u001b[33m\"\u001b[39m)\n",
      "\u001b[31mNameError\u001b[39m: name 'model' is not defined"
     ]
    }
   ],
   "source": [
    "\n",
    "n_params = sum(p.numel() for p in model.parameters())\n",
    "print(f\"Model params: {n_params/1e6:.2f}M\")"
   ]
  },
  {
   "cell_type": "code",
   "execution_count": null,
   "id": "e57aedc6",
   "metadata": {},
   "outputs": [],
   "source": []
  }
 ],
 "metadata": {
  "kernelspec": {
   "display_name": "hackathon",
   "language": "python",
   "name": "python3"
  },
  "language_info": {
   "codemirror_mode": {
    "name": "ipython",
    "version": 3
   },
   "file_extension": ".py",
   "mimetype": "text/x-python",
   "name": "python",
   "nbconvert_exporter": "python",
   "pygments_lexer": "ipython3",
   "version": "3.12.3"
  }
 },
 "nbformat": 4,
 "nbformat_minor": 5
}
